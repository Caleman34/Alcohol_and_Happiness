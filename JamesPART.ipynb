{
 "cells": [
  {
   "cell_type": "code",
   "execution_count": 14,
   "metadata": {},
   "outputs": [
    {
     "data": {
      "text/html": [
       "<div>\n",
       "<style scoped>\n",
       "    .dataframe tbody tr th:only-of-type {\n",
       "        vertical-align: middle;\n",
       "    }\n",
       "\n",
       "    .dataframe tbody tr th {\n",
       "        vertical-align: top;\n",
       "    }\n",
       "\n",
       "    .dataframe thead th {\n",
       "        text-align: right;\n",
       "    }\n",
       "</style>\n",
       "<table border=\"1\" class=\"dataframe\">\n",
       "  <thead>\n",
       "    <tr style=\"text-align: right;\">\n",
       "      <th></th>\n",
       "      <th>Country name</th>\n",
       "      <th>Region</th>\n",
       "      <th>Hemisphere</th>\n",
       "      <th>HappinessScore</th>\n",
       "      <th>HDI</th>\n",
       "      <th>GDP_PerCapita</th>\n",
       "      <th>Beer_PerCapita</th>\n",
       "      <th>Spirit_PerCapita</th>\n",
       "      <th>Wine_PerCapita</th>\n",
       "      <th>year</th>\n",
       "      <th>Life Ladder</th>\n",
       "      <th>Log GDP per capita</th>\n",
       "      <th>Social support</th>\n",
       "      <th>Healthy life expectancy at birth</th>\n",
       "      <th>Freedom to make life choices</th>\n",
       "      <th>Generosity</th>\n",
       "      <th>Perceptions of corruption</th>\n",
       "      <th>Positive affect</th>\n",
       "      <th>Negative affect</th>\n",
       "    </tr>\n",
       "  </thead>\n",
       "  <tbody>\n",
       "    <tr>\n",
       "      <th>0</th>\n",
       "      <td>Denmark</td>\n",
       "      <td>Western Europe</td>\n",
       "      <td>north</td>\n",
       "      <td>7.526</td>\n",
       "      <td>928</td>\n",
       "      <td>53.579</td>\n",
       "      <td>224</td>\n",
       "      <td>81</td>\n",
       "      <td>278</td>\n",
       "      <td>2005</td>\n",
       "      <td>8.019</td>\n",
       "      <td>10.851</td>\n",
       "      <td>0.972</td>\n",
       "      <td>69.60</td>\n",
       "      <td>0.971</td>\n",
       "      <td>NaN</td>\n",
       "      <td>0.237</td>\n",
       "      <td>0.860</td>\n",
       "      <td>0.154</td>\n",
       "    </tr>\n",
       "    <tr>\n",
       "      <th>1</th>\n",
       "      <td>Denmark</td>\n",
       "      <td>Western Europe</td>\n",
       "      <td>north</td>\n",
       "      <td>7.526</td>\n",
       "      <td>928</td>\n",
       "      <td>53.579</td>\n",
       "      <td>224</td>\n",
       "      <td>81</td>\n",
       "      <td>278</td>\n",
       "      <td>2007</td>\n",
       "      <td>7.834</td>\n",
       "      <td>10.891</td>\n",
       "      <td>0.954</td>\n",
       "      <td>69.92</td>\n",
       "      <td>0.932</td>\n",
       "      <td>0.240</td>\n",
       "      <td>0.206</td>\n",
       "      <td>0.828</td>\n",
       "      <td>0.194</td>\n",
       "    </tr>\n",
       "    <tr>\n",
       "      <th>2</th>\n",
       "      <td>Denmark</td>\n",
       "      <td>Western Europe</td>\n",
       "      <td>north</td>\n",
       "      <td>7.526</td>\n",
       "      <td>928</td>\n",
       "      <td>53.579</td>\n",
       "      <td>224</td>\n",
       "      <td>81</td>\n",
       "      <td>278</td>\n",
       "      <td>2008</td>\n",
       "      <td>7.971</td>\n",
       "      <td>10.880</td>\n",
       "      <td>0.954</td>\n",
       "      <td>70.08</td>\n",
       "      <td>0.970</td>\n",
       "      <td>0.272</td>\n",
       "      <td>0.248</td>\n",
       "      <td>0.757</td>\n",
       "      <td>0.163</td>\n",
       "    </tr>\n",
       "    <tr>\n",
       "      <th>3</th>\n",
       "      <td>Denmark</td>\n",
       "      <td>Western Europe</td>\n",
       "      <td>north</td>\n",
       "      <td>7.526</td>\n",
       "      <td>928</td>\n",
       "      <td>53.579</td>\n",
       "      <td>224</td>\n",
       "      <td>81</td>\n",
       "      <td>278</td>\n",
       "      <td>2009</td>\n",
       "      <td>7.683</td>\n",
       "      <td>10.824</td>\n",
       "      <td>0.939</td>\n",
       "      <td>70.24</td>\n",
       "      <td>0.949</td>\n",
       "      <td>0.264</td>\n",
       "      <td>0.206</td>\n",
       "      <td>0.749</td>\n",
       "      <td>0.234</td>\n",
       "    </tr>\n",
       "    <tr>\n",
       "      <th>4</th>\n",
       "      <td>Denmark</td>\n",
       "      <td>Western Europe</td>\n",
       "      <td>north</td>\n",
       "      <td>7.526</td>\n",
       "      <td>928</td>\n",
       "      <td>53.579</td>\n",
       "      <td>224</td>\n",
       "      <td>81</td>\n",
       "      <td>278</td>\n",
       "      <td>2010</td>\n",
       "      <td>7.771</td>\n",
       "      <td>10.839</td>\n",
       "      <td>0.975</td>\n",
       "      <td>70.40</td>\n",
       "      <td>0.944</td>\n",
       "      <td>0.242</td>\n",
       "      <td>0.175</td>\n",
       "      <td>0.785</td>\n",
       "      <td>0.155</td>\n",
       "    </tr>\n",
       "  </tbody>\n",
       "</table>\n",
       "</div>"
      ],
      "text/plain": [
       "  Country name          Region Hemisphere  HappinessScore  HDI  GDP_PerCapita  \\\n",
       "0      Denmark  Western Europe      north           7.526  928         53.579   \n",
       "1      Denmark  Western Europe      north           7.526  928         53.579   \n",
       "2      Denmark  Western Europe      north           7.526  928         53.579   \n",
       "3      Denmark  Western Europe      north           7.526  928         53.579   \n",
       "4      Denmark  Western Europe      north           7.526  928         53.579   \n",
       "\n",
       "   Beer_PerCapita  Spirit_PerCapita  Wine_PerCapita  year  Life Ladder  \\\n",
       "0             224                81             278  2005        8.019   \n",
       "1             224                81             278  2007        7.834   \n",
       "2             224                81             278  2008        7.971   \n",
       "3             224                81             278  2009        7.683   \n",
       "4             224                81             278  2010        7.771   \n",
       "\n",
       "   Log GDP per capita  Social support  Healthy life expectancy at birth  \\\n",
       "0              10.851           0.972                             69.60   \n",
       "1              10.891           0.954                             69.92   \n",
       "2              10.880           0.954                             70.08   \n",
       "3              10.824           0.939                             70.24   \n",
       "4              10.839           0.975                             70.40   \n",
       "\n",
       "   Freedom to make life choices  Generosity  Perceptions of corruption  \\\n",
       "0                         0.971         NaN                      0.237   \n",
       "1                         0.932       0.240                      0.206   \n",
       "2                         0.970       0.272                      0.248   \n",
       "3                         0.949       0.264                      0.206   \n",
       "4                         0.944       0.242                      0.175   \n",
       "\n",
       "   Positive affect  Negative affect  \n",
       "0            0.860            0.154  \n",
       "1            0.828            0.194  \n",
       "2            0.757            0.163  \n",
       "3            0.749            0.234  \n",
       "4            0.785            0.155  "
      ]
     },
     "execution_count": 14,
     "metadata": {},
     "output_type": "execute_result"
    }
   ],
   "source": [
    "#add dependencies\n",
    "import pandas as pd\n",
    "import os\n",
    "import numpy as np\n",
    "import matplotlib.pyplot as plt\n",
    "import seaborn as sns\n",
    "\n",
    "#create variable to hold path for csv file\n",
    "hac = \"HappinessAlcoholConsumption.csv\"\n",
    "whr = \"world-happiness-report.csv\"\n",
    "\n",
    "#read csv file and store in pd frame\n",
    "hac_read = pd.read_csv(hac)\n",
    "# hac_read.head()\n",
    "whr_read = pd.read_csv(whr)\n",
    "# whr_read.head()\n",
    "\n",
    "# rename country column\n",
    "renamed_hac = hac_read.rename(columns={\"Country\":\"Country name\"})\n",
    "renamed_hac.head()\n",
    "\n",
    "# Merge data frames\n",
    "merge_df = pd.merge(renamed_hac, whr_read, on=\"Country name\", how=\"inner\")\n",
    "merge_df.head()\n"
   ]
  },
  {
   "cell_type": "code",
   "execution_count": 15,
   "metadata": {},
   "outputs": [
    {
     "data": {
      "text/plain": [
       "array(['Western Europe', 'North America', 'Australia and New Zealand',\n",
       "       'Middle East and Northern Africa', 'Latin America and Caribbean',\n",
       "       'Southeastern Asia', 'Central and Eastern Europe', 'Eastern Asia',\n",
       "       'Sub-Saharan Africa'], dtype=object)"
      ]
     },
     "execution_count": 15,
     "metadata": {},
     "output_type": "execute_result"
    }
   ],
   "source": [
    "df['Region'].unique()"
   ]
  },
  {
   "cell_type": "code",
   "execution_count": 16,
   "metadata": {},
   "outputs": [
    {
     "data": {
      "text/html": [
       "<div>\n",
       "<style scoped>\n",
       "    .dataframe tbody tr th:only-of-type {\n",
       "        vertical-align: middle;\n",
       "    }\n",
       "\n",
       "    .dataframe tbody tr th {\n",
       "        vertical-align: top;\n",
       "    }\n",
       "\n",
       "    .dataframe thead th {\n",
       "        text-align: right;\n",
       "    }\n",
       "</style>\n",
       "<table border=\"1\" class=\"dataframe\">\n",
       "  <thead>\n",
       "    <tr style=\"text-align: right;\">\n",
       "      <th></th>\n",
       "      <th>Region</th>\n",
       "      <th>Numbers</th>\n",
       "    </tr>\n",
       "  </thead>\n",
       "  <tbody>\n",
       "    <tr>\n",
       "      <th>0</th>\n",
       "      <td>Sub-Saharan Africa</td>\n",
       "      <td>28</td>\n",
       "    </tr>\n",
       "    <tr>\n",
       "      <th>1</th>\n",
       "      <td>Central and Eastern Europe</td>\n",
       "      <td>27</td>\n",
       "    </tr>\n",
       "    <tr>\n",
       "      <th>2</th>\n",
       "      <td>Latin America and Caribbean</td>\n",
       "      <td>23</td>\n",
       "    </tr>\n",
       "    <tr>\n",
       "      <th>3</th>\n",
       "      <td>Western Europe</td>\n",
       "      <td>20</td>\n",
       "    </tr>\n",
       "    <tr>\n",
       "      <th>4</th>\n",
       "      <td>Middle East and Northern Africa</td>\n",
       "      <td>11</td>\n",
       "    </tr>\n",
       "    <tr>\n",
       "      <th>5</th>\n",
       "      <td>Southeastern Asia</td>\n",
       "      <td>5</td>\n",
       "    </tr>\n",
       "    <tr>\n",
       "      <th>6</th>\n",
       "      <td>Eastern Asia</td>\n",
       "      <td>4</td>\n",
       "    </tr>\n",
       "    <tr>\n",
       "      <th>7</th>\n",
       "      <td>Australia and New Zealand</td>\n",
       "      <td>2</td>\n",
       "    </tr>\n",
       "    <tr>\n",
       "      <th>8</th>\n",
       "      <td>North America</td>\n",
       "      <td>2</td>\n",
       "    </tr>\n",
       "  </tbody>\n",
       "</table>\n",
       "</div>"
      ],
      "text/plain": [
       "                            Region  Numbers\n",
       "0               Sub-Saharan Africa       28\n",
       "1       Central and Eastern Europe       27\n",
       "2      Latin America and Caribbean       23\n",
       "3                   Western Europe       20\n",
       "4  Middle East and Northern Africa       11\n",
       "5                Southeastern Asia        5\n",
       "6                     Eastern Asia        4\n",
       "7        Australia and New Zealand        2\n",
       "8                    North America        2"
      ]
     },
     "execution_count": 16,
     "metadata": {},
     "output_type": "execute_result"
    }
   ],
   "source": [
    "pd.DataFrame(dict(df['Region'].value_counts()).items(), columns = ['Region','Numbers'])"
   ]
  },
  {
   "cell_type": "code",
   "execution_count": 17,
   "metadata": {},
   "outputs": [
    {
     "data": {
      "image/png": "[encoded data removed]",
      "text/plain": [
       "<Figure size 1080x432 with 1 Axes>"
      ]
     },
     "metadata": {
      "needs_background": "light"
     },
     "output_type": "display_data"
    }
   ],
   "source": [
    "import seaborn as sns\n",
    "plt.figure(figsize = (15,6))\n",
    "sns.barplot(x ='HappinessScore',y= 'Region',data = df, palette = 'turbo')\n",
    "plt.title('Happiness Score by Region', fontsize = 20)\n",
    "plt.xticks(rotation = 45)\n",
    "plt.show()"
   ]
  },
  {
   "cell_type": "code",
   "execution_count": 21,
   "metadata": {},
   "outputs": [
    {
     "data": {
      "image/png": "[encoded data removed]",
      "text/plain": [
       "<Figure size 864x360 with 1 Axes>"
      ]
     },
     "metadata": {
      "needs_background": "light"
     },
     "output_type": "display_data"
    }
   ],
   "source": [
    "import seaborn as sns\n",
    "plt.figure(figsize = (12,5))\n",
    "sns.barplot(x ='HappinessScore',y= 'Country',data = df.nlargest(10,'HappinessScore'), palette = 'turbo')\n",
    "plt.title('Happiness Score of top 10 Countries', fontsize = 20)\n",
    "plt.xticks(rotation = 45)\n",
    "plt.show()"
   ]
  },
  {
   "cell_type": "code",
   "execution_count": 20,
   "metadata": {},
   "outputs": [
    {
     "data": {
      "image/png": "[encoded data removed]",
      "text/plain": [
       "<Figure size 864x360 with 1 Axes>"
      ]
     },
     "metadata": {
      "needs_background": "light"
     },
     "output_type": "display_data"
    }
   ],
   "source": [
    "import seaborn as sns\n",
    "plt.figure(figsize = (12,5))\n",
    "sns.barplot(x ='HappinessScore',y= 'Country',data = df.nsmallest(10,'HappinessScore'), palette = 'turbo')\n",
    "plt.title('Happiness Score of smallest 10 Countries', fontsize = 20)\n",
    "plt.xticks(rotation = 45)\n",
    "plt.show()"
   ]
  },
  {
   "cell_type": "code",
   "execution_count": null,
   "metadata": {},
   "outputs": [],
   "source": []
  }
 ],
 "metadata": {
  "kernelspec": {
   "display_name": "Python 3",
   "language": "python",
   "name": "python3"
  },
  "language_info": {
   "codemirror_mode": {
    "name": "ipython",
    "version": 3
   },
   "file_extension": ".py",
   "mimetype": "text/x-python",
   "name": "python",
   "nbconvert_exporter": "python",
   "pygments_lexer": "ipython3",
   "version": "3.8.5"
  }
 },
 "nbformat": 4,
 "nbformat_minor": 4
}
