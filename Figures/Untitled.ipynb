{
 "cells": [
  {
   "cell_type": "code",
   "execution_count": null,
   "metadata": {},
   "outputs": [],
   "source": [
    "# line plot of countries and thier drinking wine per capita\n",
    "plt.figure(figsize = (15,6))\n",
    "sns.set_theme(style=\"whitegrid\")\n",
    "sns.barplot(x =\"Country\",y= \"Spirit (Per Capita)\", data = top_bottom_df, palette = 'turbo')\n",
    "plt.title(\"Spirit Consumption for Top and Bottom 10 Happiest Countries\", fontsize = 25)\n",
    "plt.xticks(rotation = 45)\n",
    "plt.savefig(\"Figures/t_b_10_Spirit.png\")\n",
    "\n",
    "plt.show()"
   ]
  },
  {
   "cell_type": "code",
   "execution_count": null,
   "metadata": {},
   "outputs": [],
   "source": [
    "# line plot of countries and thier drinking wine per capita\n",
    "plt.figure(figsize = (15,6))\n",
    "sns.barplot(x =\"Country\",y= \"Wine (Per Capita)\", data = top_bottom_df, palette = 'turbo')\n",
    "sns.set_theme(style=\"whitegrid\")\n",
    "plt.title(\"Wine Consumption for Top and Bottom 10 Happiest Countries\", fontsize = 25)\n",
    "plt.xticks(rotation = 45)\n",
    "plt.savefig(\"Figures/t_b_10_wine.png\")\n",
    "\n",
    "plt.show()"
   ]
  },
  {
   "cell_type": "code",
   "execution_count": null,
   "metadata": {},
   "outputs": [],
   "source": [
    "# line plot of countries and thier drinking ber per capita\n",
    "plt.figure(figsize = (15,6))\n",
    "sns.barplot(x =\"Country\",y= \"Beer (Per Capita)\", data = top_bottom_df, palette = 'turbo')\n",
    "sns.set_theme(style=\"whitegrid\")\n",
    "plt.title(\"Beer Consumption for Top and Bottom 10 Happiest Countries\", fontsize = 25)\n",
    "plt.xticks(rotation = 45)\n",
    "plt.savefig(\"Figures/t_b_10_beer.png\")\n",
    "\n",
    "plt.show()"
   ]
  },
  {
   "cell_type": "code",
   "execution_count": null,
   "metadata": {},
   "outputs": [],
   "source": [
    "multi_plot_graph = multi_plot_df.plot(kind = \"bar\", figsize = (15,8))\n",
    "multi_plot_graph.set_xticklabels(multi_plot_df[\"Country\"], rotation=45)\n",
    "column_names = multi_plot_df[\"Beer (Per Capita)\"], [\"Spirit (Per Capita)\"], [\"Wine (Per Capita)\"]\n",
    "plt.tight_layout()\n",
    "\n",
    "plt.savefig(\"Figures/t_b_10_all.png\")\n",
    "plt.show"
   ]
  },
  {
   "cell_type": "code",
   "execution_count": null,
   "metadata": {},
   "outputs": [],
   "source": [
    "region_group = group_df.groupby([\"Region\"])\n",
    "\n",
    "wine_region = region_group[\"Wine (Per Capita)\"].mean()\n",
    "beer_region = region_group[\"Beer (Per Capita)\"].mean()\n",
    "spirit_region = region_group[\"Spirit (Per Capita)\"].mean()\n",
    "\n",
    "region_group_all_consumption = pd.DataFrame({\"Wine (Per Capita)\": wine_region,\n",
    "                                  \"Beer (Per Capita)\": beer_region,\n",
    "                                  \"Spirit (Per Capita)\": spirit_region})\n",
    "\n",
    "region_group_all_consumption.reset_index(drop = True)\n",
    "region_group_all_consumption"
   ]
  },
  {
   "cell_type": "code",
   "execution_count": null,
   "metadata": {},
   "outputs": [],
   "source": [
    "region_all_graph = region_group_all_consumption.plot(kind = \"bar\", figsize = (15,8))\n",
    "column_names = region_group_all_consumption[\"Wine (Per Capita)\"], [\"Beer (Per Capita)\"], [\"Spirit (Per Capita)\"]\n",
    "plt.tight_layout()\n",
    "region_all_graph.set_xticklabels(multi_plot_df[\"Country\"], rotation=45)\n",
    "plt.savefig(\"Figures/t_b_10_region_consumption.png\")\n",
    "\n",
    "plt.show"
   ]
  }
 ],
 "metadata": {
  "kernelspec": {
   "display_name": "Python 3",
   "language": "python",
   "name": "python3"
  },
  "language_info": {
   "codemirror_mode": {
    "name": "ipython",
    "version": 3
   },
   "file_extension": ".py",
   "mimetype": "text/x-python",
   "name": "python",
   "nbconvert_exporter": "python",
   "pygments_lexer": "ipython3",
   "version": "3.8.5"
  }
 },
 "nbformat": 4,
 "nbformat_minor": 4
}
