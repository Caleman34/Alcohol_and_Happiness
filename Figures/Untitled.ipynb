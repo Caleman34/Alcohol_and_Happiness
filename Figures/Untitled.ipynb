{
 "cells": [
  {
   "cell_type": "code",
   "execution_count": null,
   "metadata": {},
   "outputs": [],
   "source": [
    "# group by regions and plot for wine\n",
    "groupby_regions = group_df.groupby([\"Region\"])\n",
    "region_wine = groupby_regions[\"Wine (Per Capita)\"].mean()\n",
    "region_wine_df = pd.DataFrame({\"Wine (Per Capita)\": region_wine})\n",
    "region_wine_df[\"Wine (Per Capita)\"] = region_wine_df[\"Wine (Per Capita)\"].map(\"{:.2f}\".format)\n",
    "region_wine_df"
   ]
  }
 ],
 "metadata": {
  "kernelspec": {
   "display_name": "Python 3",
   "language": "python",
   "name": "python3"
  },
  "language_info": {
   "codemirror_mode": {
    "name": "ipython",
    "version": 3
   },
   "file_extension": ".py",
   "mimetype": "text/x-python",
   "name": "python",
   "nbconvert_exporter": "python",
   "pygments_lexer": "ipython3",
   "version": "3.8.5"
  }
 },
 "nbformat": 4,
 "nbformat_minor": 4
}
